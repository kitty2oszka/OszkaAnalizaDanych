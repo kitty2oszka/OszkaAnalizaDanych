{
  "nbformat": 4,
  "nbformat_minor": 0,
  "metadata": {
    "colab": {
      "provenance": []
    },
    "kernelspec": {
      "name": "python3",
      "display_name": "Python 3"
    },
    "language_info": {
      "name": "python"
    }
  },
  "cells": [
    {
      "cell_type": "markdown",
      "source": [
        "1. Stwórz tablicę o nazwie `a_small_one` o wymiarach 8x8 z wartościami od 1 do 64.\n",
        "\n",
        "2. Dla tablicy `a_small_one` policz:\n",
        "   * sumę dla każdej kolumny,\n",
        "   * sumę skumulowaną dla każdego wiersza,\n",
        "   * wartość średnią dla każdego wiersza,\n",
        "\n",
        "3. Zwróć podtablicę z tablicy `a_small_one` z elementami parzystymi (nie nadpisuj tej zmiennej).\n",
        "\n",
        "4. Zapisz do zmiennej o nazwie `no_even_small_one` tablicę `a_small_one` zamieniając wartości parzyste na wartość np.nan.\n",
        "\n",
        "5. Dla tablicy `no_even_small_one` policz funkcjami uwzględniającymi wartości nan (zazwyczaj posiadają przedrostek nan):\n",
        "   * sumę dla każdego wiersza,\n",
        "   * średnią dla każdej kolumny,\n",
        "   * wartość najmniejszą i w całej tablicy,\n",
        "\n",
        "6. Do tablicy `no_even_small_one` wstaw za pomocą funkcji `np.where`:\n",
        "\n",
        "   * wartości 1 dla każdej wartości np.nan (zobacz wbudowaną funkcję `np.isnan()`)\n",
        "   * liczby parzyste, które wcześniej zastąpiliśmy wartościami nan (teraz 1 jeżeli wykonany jest podpunkt pierwszy), więc przywracamy ten tablicy wygląd oryginalny z tablicy `a_small_one` - dla warunku wstawiaj wartość z `a_small_one` lub `no_even_small_one`\n",
        "\n",
        "8. Stwórz tablicę o nazwie `sto_by_sto` o wymiarach 100x100 próbkując wartości z rozkładu normalnego standardowego.\n",
        "\n",
        "9. Dla tablicy `sto_by_sto` policz:\n",
        "   * wartość średnią w każdym wierszu i kolumnie (oddzielnie),\n",
        "   * policz średnią różnicę bezwzględną dla wartości w powyższym punkcie względem wartości 0 (oddzielnie dla średniej z kolumn i średniej z wierszy, pamiętam o tym, że operacje na tablicy numpy wykonywane są w trybie broadcast).\n",
        "\n",
        "10. Stwórz tablicę o wymiarach 1000x1000 uzupełniając ją wartościami losowymi z rozkładu normalnego standardowego, a następnie posiłkując się przykładami z labów poprzednich (moduł `timeit`) porównaj czasy wykonania dla tej tablicy:\n",
        "    * zapisu do pliku tekstowego vs. zapis do pliku w formacie picle vs. zapis do pliku skompresowanego (funkcja `savez` w dokumentacji biblioteki numpy)\n",
        "    * odczytu dla trzech wyżej wymienionych plików."
      ],
      "metadata": {
        "id": "AbGm08BOSQWg"
      }
    },
    {
      "cell_type": "code",
      "source": [
        "import numpy as np"
      ],
      "metadata": {
        "id": "ZNYz6O0wP9iO"
      },
      "execution_count": 2,
      "outputs": []
    },
    {
      "cell_type": "markdown",
      "source": [
        "Zad 1"
      ],
      "metadata": {
        "id": "EW28w_-oP3Rg"
      }
    },
    {
      "cell_type": "code",
      "execution_count": 3,
      "metadata": {
        "id": "_Ow664z3SQEv",
        "colab": {
          "base_uri": "https://localhost:8080/"
        },
        "outputId": "6705858e-39f6-4f5f-9eac-9283c218926e"
      },
      "outputs": [
        {
          "output_type": "execute_result",
          "data": {
            "text/plain": [
              "array([[ 1,  2,  3,  4,  5,  6,  7,  8],\n",
              "       [ 9, 10, 11, 12, 13, 14, 15, 16],\n",
              "       [17, 18, 19, 20, 21, 22, 23, 24],\n",
              "       [25, 26, 27, 28, 29, 30, 31, 32],\n",
              "       [33, 34, 35, 36, 37, 38, 39, 40],\n",
              "       [41, 42, 43, 44, 45, 46, 47, 48],\n",
              "       [49, 50, 51, 52, 53, 54, 55, 56],\n",
              "       [57, 58, 59, 60, 61, 62, 63, 64]])"
            ]
          },
          "metadata": {},
          "execution_count": 3
        }
      ],
      "source": [
        "a_small_one = np.arange(1,65).reshape((8,8))\n",
        "a_small_one"
      ]
    },
    {
      "cell_type": "markdown",
      "source": [
        "Zad 2"
      ],
      "metadata": {
        "id": "TBsI6fbVQR9q"
      }
    },
    {
      "cell_type": "code",
      "source": [
        "print(np.sum(a_small_one))\n",
        "print(np.cumsum(a_small_one))\n",
        "print(np.mean(a_small_one))"
      ],
      "metadata": {
        "colab": {
          "base_uri": "https://localhost:8080/"
        },
        "id": "BW8mreHUQRZs",
        "outputId": "d7b0aed2-2926-48e5-a7f0-3be9e79a2273"
      },
      "execution_count": 4,
      "outputs": [
        {
          "output_type": "stream",
          "name": "stdout",
          "text": [
            "2080\n",
            "[   1    3    6   10   15   21   28   36   45   55   66   78   91  105\n",
            "  120  136  153  171  190  210  231  253  276  300  325  351  378  406\n",
            "  435  465  496  528  561  595  630  666  703  741  780  820  861  903\n",
            "  946  990 1035 1081 1128 1176 1225 1275 1326 1378 1431 1485 1540 1596\n",
            " 1653 1711 1770 1830 1891 1953 2016 2080]\n",
            "32.5\n"
          ]
        }
      ]
    },
    {
      "cell_type": "markdown",
      "source": [
        "Zad 3"
      ],
      "metadata": {
        "id": "mc-dTARnRRaA"
      }
    },
    {
      "cell_type": "code",
      "source": [
        "a_small_one_even = a_small_one[a_small_one % 2 == 0]\n",
        "a_small_one_even"
      ],
      "metadata": {
        "colab": {
          "base_uri": "https://localhost:8080/"
        },
        "id": "o3aEvdV7QvXx",
        "outputId": "5f5f12c0-d427-4ebf-df3a-684ab3d0f6e6"
      },
      "execution_count": 5,
      "outputs": [
        {
          "output_type": "execute_result",
          "data": {
            "text/plain": [
              "array([ 2,  4,  6,  8, 10, 12, 14, 16, 18, 20, 22, 24, 26, 28, 30, 32, 34,\n",
              "       36, 38, 40, 42, 44, 46, 48, 50, 52, 54, 56, 58, 60, 62, 64])"
            ]
          },
          "metadata": {},
          "execution_count": 5
        }
      ]
    },
    {
      "cell_type": "markdown",
      "source": [
        "Zad 4"
      ],
      "metadata": {
        "id": "jZHmDeKXRSfJ"
      }
    },
    {
      "cell_type": "code",
      "source": [
        "no_even_small_one = a_small_one.astype(float)\n",
        "no_even_small_one = np.where(a_small_one % 2 == 0, np.nan, a_small_one)\n",
        "no_even_small_one"
      ],
      "metadata": {
        "colab": {
          "base_uri": "https://localhost:8080/"
        },
        "id": "HXGzSwB0RTe7",
        "outputId": "16216529-7b2c-46df-b6fa-cdbad21237b5"
      },
      "execution_count": 11,
      "outputs": [
        {
          "output_type": "execute_result",
          "data": {
            "text/plain": [
              "array([[ 1., nan,  3., nan,  5., nan,  7., nan],\n",
              "       [ 9., nan, 11., nan, 13., nan, 15., nan],\n",
              "       [17., nan, 19., nan, 21., nan, 23., nan],\n",
              "       [25., nan, 27., nan, 29., nan, 31., nan],\n",
              "       [33., nan, 35., nan, 37., nan, 39., nan],\n",
              "       [41., nan, 43., nan, 45., nan, 47., nan],\n",
              "       [49., nan, 51., nan, 53., nan, 55., nan],\n",
              "       [57., nan, 59., nan, 61., nan, 63., nan]])"
            ]
          },
          "metadata": {},
          "execution_count": 11
        }
      ]
    },
    {
      "cell_type": "markdown",
      "source": [
        "Zad 5"
      ],
      "metadata": {
        "id": "hFlT9vHjUdWf"
      }
    },
    {
      "cell_type": "code",
      "source": [
        "print(np.nansum(no_even_small_one, axis = 1))\n",
        "print(f\"MINIMUM: {np.nanmin(no_even_small_one)}\")\n",
        "empty_columns = np.isnan(no_even_small_one).all(axis=0)\n",
        "mean_value_filtered = np.nanmean(no_even_small_one[:, ~empty_columns], axis=0)\n",
        "print(\"Średnia dla kolumn, które nie są puste:\", mean_value_filtered)\n"
      ],
      "metadata": {
        "colab": {
          "base_uri": "https://localhost:8080/"
        },
        "id": "VjNoTSwbUtP7",
        "outputId": "1763f061-bb9a-4d4e-9ee4-853ecbd3ea00"
      },
      "execution_count": 15,
      "outputs": [
        {
          "output_type": "stream",
          "name": "stdout",
          "text": [
            "[ 16.  48.  80. 112. 144. 176. 208. 240.]\n",
            "MINIMUM: 1.0\n",
            "Średnia dla kolumn, które nie są puste: [29. 31. 33. 35.]\n"
          ]
        }
      ]
    },
    {
      "cell_type": "markdown",
      "source": [
        "Zad 6"
      ],
      "metadata": {
        "id": "QmQZxJoyXoDC"
      }
    },
    {
      "cell_type": "code",
      "source": [
        "no_even_1 = np.where((~np.isnan(no_even_small_one)), no_even_small_one, 1)\n",
        "no_even_1\n"
      ],
      "metadata": {
        "id": "2Zd9aJJgd5Ri",
        "colab": {
          "base_uri": "https://localhost:8080/"
        },
        "outputId": "509a17f3-3a7a-42fb-af86-fd5f5df6dbfc"
      },
      "execution_count": 17,
      "outputs": [
        {
          "output_type": "execute_result",
          "data": {
            "text/plain": [
              "array([[ 1.,  1.,  3.,  1.,  5.,  1.,  7.,  1.],\n",
              "       [ 9.,  1., 11.,  1., 13.,  1., 15.,  1.],\n",
              "       [17.,  1., 19.,  1., 21.,  1., 23.,  1.],\n",
              "       [25.,  1., 27.,  1., 29.,  1., 31.,  1.],\n",
              "       [33.,  1., 35.,  1., 37.,  1., 39.,  1.],\n",
              "       [41.,  1., 43.,  1., 45.,  1., 47.,  1.],\n",
              "       [49.,  1., 51.,  1., 53.,  1., 55.,  1.],\n",
              "       [57.,  1., 59.,  1., 61.,  1., 63.,  1.]])"
            ]
          },
          "metadata": {},
          "execution_count": 17
        }
      ]
    },
    {
      "cell_type": "code",
      "source": [
        "no_even_2 = np.where((a_small_one % 2 ==0), a_small_one, no_even_1)\n",
        "no_even_2"
      ],
      "metadata": {
        "colab": {
          "base_uri": "https://localhost:8080/"
        },
        "id": "yBCe_FJhP0tx",
        "outputId": "049cb262-0443-4f9f-dee3-33e1fbcd002d"
      },
      "execution_count": 18,
      "outputs": [
        {
          "output_type": "execute_result",
          "data": {
            "text/plain": [
              "array([[ 1.,  2.,  3.,  4.,  5.,  6.,  7.,  8.],\n",
              "       [ 9., 10., 11., 12., 13., 14., 15., 16.],\n",
              "       [17., 18., 19., 20., 21., 22., 23., 24.],\n",
              "       [25., 26., 27., 28., 29., 30., 31., 32.],\n",
              "       [33., 34., 35., 36., 37., 38., 39., 40.],\n",
              "       [41., 42., 43., 44., 45., 46., 47., 48.],\n",
              "       [49., 50., 51., 52., 53., 54., 55., 56.],\n",
              "       [57., 58., 59., 60., 61., 62., 63., 64.]])"
            ]
          },
          "metadata": {},
          "execution_count": 18
        }
      ]
    },
    {
      "cell_type": "markdown",
      "source": [
        "Zad 7"
      ],
      "metadata": {
        "id": "NdmbHqXHd5uu"
      }
    },
    {
      "cell_type": "code",
      "source": [
        "rng = np.random.default_rng()"
      ],
      "metadata": {
        "id": "tG269BRndzEE"
      },
      "execution_count": 20,
      "outputs": []
    },
    {
      "cell_type": "code",
      "source": [
        "sto_by_sto = rng.standard_normal(size = (100,100))\n",
        "sto_by_sto"
      ],
      "metadata": {
        "colab": {
          "base_uri": "https://localhost:8080/"
        },
        "id": "8q8cvPS7Xo1a",
        "outputId": "ce8f95c3-c414-499a-cfa1-ad3a9571753e"
      },
      "execution_count": 21,
      "outputs": [
        {
          "output_type": "execute_result",
          "data": {
            "text/plain": [
              "array([[ 0.229307  ,  0.34135311,  0.76898216, ..., -0.71632867,\n",
              "         0.09527631, -0.35731227],\n",
              "       [-0.28731346, -0.02227383, -0.76233505, ...,  1.25761721,\n",
              "         0.78852675,  1.33733301],\n",
              "       [-0.16056944,  1.85589813,  0.60350699, ...,  0.58220751,\n",
              "        -0.30017405,  0.04827112],\n",
              "       ...,\n",
              "       [-0.42950352,  1.94217968, -0.85816955, ..., -1.09549495,\n",
              "         0.39565717,  0.40700167],\n",
              "       [-0.19591754,  0.05409258, -0.41875757, ...,  2.10310009,\n",
              "        -0.30173332,  0.6956772 ],\n",
              "       [-0.71289649,  0.03144466, -0.53999308, ..., -0.69190601,\n",
              "         2.59861737,  0.34994696]])"
            ]
          },
          "metadata": {},
          "execution_count": 21
        }
      ]
    },
    {
      "cell_type": "markdown",
      "source": [
        "Zad 8"
      ],
      "metadata": {
        "id": "l8FOnYaSdVub"
      }
    },
    {
      "cell_type": "code",
      "source": [
        "mean_columns_sto = np.mean(sto_by_sto, axis = 1)\n",
        "print(f\"kolumny:{mean_columns_sto}\")\n",
        "mean_row_sto = np.mean(sto_by_sto, axis = 0)\n",
        "print(f\"wiersze: {mean_row_sto}\")\n",
        "mean_abs_diff_rows = np.mean(np.abs(mean_row_sto - 0))\n",
        "mean_abs_diff_columns = np.mean(np.abs(mean_columns_sto - 0))\n",
        "print(f\"Średnia różnica bezwzględna dla wierszy: {mean_abs_diff_rows}\")\n",
        "print(f\"Średnia różnica bezwzględna dla kolumn: {mean_abs_diff_columns}\")\n"
      ],
      "metadata": {
        "colab": {
          "base_uri": "https://localhost:8080/"
        },
        "id": "AK8RHhBFdXOy",
        "outputId": "44b8d450-2383-43d4-86f5-763b231fa446"
      },
      "execution_count": 22,
      "outputs": [
        {
          "output_type": "stream",
          "name": "stdout",
          "text": [
            "kolumny:[-0.03239213  0.05805171 -0.05885109 -0.02671594 -0.00817661  0.18022677\n",
            "  0.01726944 -0.07800809 -0.12895046 -0.14165675 -0.12153978  0.23694796\n",
            " -0.00748651  0.05455631 -0.00865294  0.07181721  0.06578523  0.07398981\n",
            " -0.04881012 -0.14992767 -0.0301277   0.06114268 -0.11589508  0.06732968\n",
            " -0.00647444 -0.00109816 -0.13872532  0.03767234  0.04950815 -0.05855445\n",
            " -0.00171276  0.10537626 -0.06063305 -0.05866838 -0.12992399 -0.05998829\n",
            "  0.02087906 -0.12788831 -0.20697021 -0.0184176   0.16534605 -0.04822765\n",
            "  0.07068012  0.00238398  0.11050659 -0.02635608 -0.14663338  0.11552051\n",
            " -0.08453912 -0.09096078  0.02179593  0.20536499  0.04143648  0.03524293\n",
            " -0.03885854 -0.05131251  0.07165724  0.04305287 -0.06207324 -0.09440635\n",
            " -0.08817157  0.01547748  0.09197545 -0.10666744  0.12657169 -0.1830043\n",
            "  0.03822807  0.27487081  0.07982524 -0.05326691 -0.00847076  0.03495002\n",
            "  0.03765367  0.03409886 -0.1105052  -0.13538827  0.02149939 -0.00285551\n",
            " -0.01013335  0.07583699  0.1595127   0.00139766  0.02073539 -0.04557829\n",
            "  0.05787011  0.0291927  -0.02283764 -0.02790537 -0.2289585   0.04272877\n",
            " -0.12479873  0.07956634  0.04945103 -0.06470599  0.16537635 -0.02144522\n",
            "  0.05947611 -0.00832549  0.02872278  0.0287805 ]\n",
            "wiersze: [-0.05122853 -0.11289794  0.05389677 -0.03464228  0.05676599  0.14968255\n",
            " -0.05582192 -0.0277569   0.0787915   0.16957806  0.03300133  0.04017796\n",
            " -0.02287552 -0.09274138  0.0847693   0.14044184 -0.07010041 -0.04693437\n",
            "  0.08868831  0.01396257 -0.04035526 -0.17268257  0.1096748  -0.13625126\n",
            " -0.01700347  0.05457448  0.07295915 -0.17259071 -0.12739914  0.05336064\n",
            " -0.1116383  -0.1457459  -0.01551763  0.04410919  0.02361769  0.09255968\n",
            "  0.16245693  0.14271249  0.10643679  0.02867509 -0.08388619  0.2611277\n",
            " -0.08784044  0.10083916 -0.02048836  0.03855222 -0.05101384 -0.20257192\n",
            " -0.06286711 -0.08094647 -0.16850909 -0.01579962 -0.03019447  0.16017293\n",
            " -0.01983628  0.05760806 -0.01908547 -0.13711893 -0.09031801  0.15565178\n",
            " -0.05802659  0.1659936   0.04514741 -0.08120639 -0.08855833  0.0498346\n",
            "  0.0212497  -0.06713508 -0.0356323  -0.22699399  0.05335718  0.05871693\n",
            " -0.08417991  0.13807616 -0.01869018  0.08251739 -0.04701787  0.10914055\n",
            " -0.11325645  0.02686358 -0.17008911 -0.07429456 -0.01612498 -0.01797221\n",
            " -0.10757924  0.03796818 -0.03034834  0.02964773 -0.01513073 -0.0551322\n",
            "  0.04228004  0.16918189 -0.04487951 -0.14051218 -0.04657991  0.10662609\n",
            "  0.12736769 -0.09642933  0.02057107  0.1257507 ]\n",
            "Średnia różnica bezwzględna dla wierszy: 0.08145564543780695\n",
            "Średnia różnica bezwzględna dla kolumn: 0.07249970423624351\n"
          ]
        }
      ]
    },
    {
      "cell_type": "markdown",
      "source": [
        "ZAD 9"
      ],
      "metadata": {
        "id": "jip65RUPOp7U"
      }
    },
    {
      "cell_type": "code",
      "source": [
        "import timeit\n",
        "import pickle\n",
        "large_array = rng.standard_normal((1000, 1000))\n",
        "print(\"Czas zapisu:\")\n",
        "print(\"txt:\", timeit.timeit(lambda: np.savetxt(\"data.txt\", large_array), number=10))\n",
        "print(\"pickle:\", timeit.timeit(lambda: pickle.dump(large_array, open(\"data.pkl\", \"wb\")), number=10))\n",
        "print(\"NPZ:\", timeit.timeit(lambda: np.savez_compressed(\"data.npz\", large_array), number=10))\n",
        "\n",
        "#odczyt\n",
        "print(\"\\nCzas odczytu:\")\n",
        "print(\"txt:\", timeit.timeit(lambda: np.loadtxt(\"data.txt\"), number=10))\n",
        "print(\"pickle:\", timeit.timeit(lambda: pickle.load(open(\"data.pkl\", \"rb\")), number=10))\n",
        "print(\"NPZ:\", timeit.timeit(lambda: np.load(\"data.npz\")[\"arr_0\"], number=10))\n"
      ],
      "metadata": {
        "id": "RkM1_iKkOr-l",
        "colab": {
          "base_uri": "https://localhost:8080/"
        },
        "outputId": "4493c268-8296-4ad4-c43a-654a1ff3b40d"
      },
      "execution_count": 27,
      "outputs": [
        {
          "output_type": "stream",
          "name": "stdout",
          "text": [
            "Czas zapisu:\n",
            "txt: 10.898424499999237\n",
            "pickle: 0.27336630600075296\n",
            "NPZ: 4.817895517000579\n",
            "\n",
            "Czas odczytu:\n",
            "txt: 6.14567999800056\n",
            "pickle: 0.02149630400163005\n",
            "NPZ: 0.5628859759999614\n"
          ]
        }
      ]
    }
  ]
}